{
 "cells": [
  {
   "cell_type": "markdown",
   "metadata": {},
   "source": [
    "### Để tối ưu được mô hình SVM, có nhiều cách: \n",
    "## Sử dụng BaggingClassifier (một thuật toán khác)\n",
    "## sử dụng kernel \n",
    "bản chất SVM thực ra là nó classify các điểm sử dụng hyperplane mà thôi. \n",
    "Nếu như đặt một hàm vào, thì số mũ càng cao nó càng overfit"
   ]
  },
  {
   "cell_type": "code",
   "execution_count": null,
   "metadata": {},
   "outputs": [],
   "source": []
  }
 ],
 "metadata": {
  "language_info": {
   "name": "python"
  }
 },
 "nbformat": 4,
 "nbformat_minor": 2
}
