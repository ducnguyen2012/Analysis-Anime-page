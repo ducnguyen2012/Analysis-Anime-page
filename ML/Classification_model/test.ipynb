{
 "cells": [
  {
   "cell_type": "code",
   "execution_count": 7,
   "metadata": {},
   "outputs": [],
   "source": [
    "import pandas as pd\n",
    "import pickle\n",
    "from sklearn.feature_extraction import DictVectorizer\n",
    "enc = DictVectorizer()"
   ]
  },
  {
   "cell_type": "code",
   "execution_count": 8,
   "metadata": {},
   "outputs": [],
   "source": [
    "bayes = pd.read_csv('../WebApp/csv_file/x_train_naive.csv')"
   ]
  },
  {
   "cell_type": "code",
   "execution_count": 13,
   "metadata": {},
   "outputs": [],
   "source": [
    "bayes = bayes.drop(columns = ['Unnamed: 0']).reset_index(drop=True)"
   ]
  },
  {
   "cell_type": "code",
   "execution_count": 14,
   "metadata": {},
   "outputs": [
    {
     "name": "stdout",
     "output_type": "stream",
     "text": [
      "<class 'pandas.core.frame.DataFrame'>\n",
      "RangeIndex: 3046 entries, 0 to 3045\n",
      "Data columns (total 4 columns):\n",
      " #   Column  Non-Null Count  Dtype  \n",
      "---  ------  --------------  -----  \n",
      " 0   Title   3046 non-null   object \n",
      " 1   Theme   3046 non-null   object \n",
      " 2   score   3046 non-null   float64\n",
      " 3   Genre   3046 non-null   object \n",
      "dtypes: float64(1), object(3)\n",
      "memory usage: 95.3+ KB\n"
     ]
    }
   ],
   "source": [
    "bayes.info()"
   ]
  },
  {
   "cell_type": "code",
   "execution_count": 15,
   "metadata": {},
   "outputs": [],
   "source": [
    "model = pickle.load(open('../WebApp/model/NAIVE_BAYES.pkl','rb'))"
   ]
  },
  {
   "cell_type": "code",
   "execution_count": 16,
   "metadata": {},
   "outputs": [
    {
     "data": {
      "text/plain": [
       "array(['Romance'], dtype='<U22')"
      ]
     },
     "execution_count": 16,
     "metadata": {},
     "output_type": "execute_result"
    }
   ],
   "source": [
    "#! Title\tTheme\tscore\tGenre\n",
    "text1 = \"Son and friends\"\n",
    "text2 = \"School\"\n",
    "text3 = \"9.03\"\n",
    "df_temp = pd.DataFrame({'Title': [text1],'Theme': [text2], 'score': [text3]})\n",
    "enc.fit_transform(bayes.to_dict(\"records\"))\n",
    "model.predict(enc.transform(df_temp.to_dict(\"records\")))"
   ]
  },
  {
   "cell_type": "code",
   "execution_count": null,
   "metadata": {},
   "outputs": [],
   "source": []
  }
 ],
 "metadata": {
  "kernelspec": {
   "display_name": "Python 3",
   "language": "python",
   "name": "python3"
  },
  "language_info": {
   "codemirror_mode": {
    "name": "ipython",
    "version": 3
   },
   "file_extension": ".py",
   "mimetype": "text/x-python",
   "name": "python",
   "nbconvert_exporter": "python",
   "pygments_lexer": "ipython3",
   "version": "3.11.4"
  }
 },
 "nbformat": 4,
 "nbformat_minor": 2
}
