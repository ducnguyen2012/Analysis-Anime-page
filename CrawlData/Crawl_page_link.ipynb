{
 "cells": [
  {
   "cell_type": "code",
   "execution_count": 1,
   "metadata": {},
   "outputs": [],
   "source": [
    "\n",
    "from bs4 import BeautifulSoup\n",
    "import requests\n",
    "from time import sleep"
   ]
  },
  {
   "cell_type": "code",
   "execution_count": 2,
   "metadata": {},
   "outputs": [],
   "source": [
    "#! từ url của thông tin phim, trích xuất ra thông tin phim cho vào list\n",
    "url = \"https://myanimelist.net/topanime.php\"\n",
    "page = requests.get(url)\n",
    "soup = BeautifulSoup(page.text,'html')\n",
    "all_movie_link = []\n",
    "#! theo như nghiên cứu ở link https://vi.shaip.com/blog/how-much-training-data-is-enough/ data 5000 là đủ. \n",
    "for i in range(0,5001,50):\n",
    "    page = requests.get(url)\n",
    "    soup = BeautifulSoup(page.text,'html')\n",
    "    url = \"https://myanimelist.net/topanime.php\"\n",
    "    for in4 in soup.find_all('a',href=True): \n",
    "        if 'https://myanimelist.net/anime/' in in4['href']:\n",
    "            all_movie_link.append(in4['href'])    \n",
    "    url = url + \"?limit=\"+str(i)\n",
    "    sleep(1)\n",
    "#! cho hết vào file txt\n",
    "with open(\"./raw_data_movie_link.txt\",'w',encoding='utf8') as file:\n",
    "    for i in all_movie_link:\n",
    "        file.write(i+\"\\n\")\n",
    "\n",
    "#! đoạn này phải quay ra folder Preprocessed data để làm việc "
   ]
  },
  {
   "cell_type": "code",
   "execution_count": null,
   "metadata": {},
   "outputs": [],
   "source": []
  }
 ],
 "metadata": {
  "kernelspec": {
   "display_name": "Python 3",
   "language": "python",
   "name": "python3"
  },
  "language_info": {
   "codemirror_mode": {
    "name": "ipython",
    "version": 3
   },
   "file_extension": ".py",
   "mimetype": "text/x-python",
   "name": "python",
   "nbconvert_exporter": "python",
   "pygments_lexer": "ipython3",
   "version": "3.11.4"
  }
 },
 "nbformat": 4,
 "nbformat_minor": 2
}
