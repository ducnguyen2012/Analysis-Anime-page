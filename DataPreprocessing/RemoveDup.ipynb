{
 "cells": [
  {
   "cell_type": "code",
   "execution_count": 27,
   "metadata": {},
   "outputs": [],
   "source": [
    "#lineSeen = set()\n",
    "#outFile = open('./Process_movie_link.txt','w')\n",
    "all_movies_link = []\n",
    "with open('../CrawlData/movie_link.txt','r',encoding=\"utf-8\") as file:\n",
    "    for line in file.readlines():\n",
    "        all_movies_link.append(line)\n",
    "        "
   ]
  },
  {
   "cell_type": "code",
   "execution_count": 28,
   "metadata": {},
   "outputs": [],
   "source": [
    "#! remove not necessary data:\n",
    "remove_uneces = []\n",
    "for link in all_movies_link:\n",
    "    if 'video' not in link:\n",
    "        remove_uneces.append(link)\n",
    "all_movies_link = remove_uneces"
   ]
  },
  {
   "cell_type": "markdown",
   "metadata": {},
   "source": [
    "### remove duplicate\n"
   ]
  },
  {
   "cell_type": "code",
   "execution_count": 29,
   "metadata": {},
   "outputs": [],
   "source": [
    "remove_dup_movies_link = []\n",
    "for link in all_movies_link:\n",
    "    if link not in remove_dup_movies_link:\n",
    "        remove_dup_movies_link.append(link)\n",
    "all_movies_link = remove_dup_movies_link"
   ]
  },
  {
   "cell_type": "code",
   "execution_count": 30,
   "metadata": {},
   "outputs": [],
   "source": [
    "with open(\"./processed_movie_link.txt\",'w',encoding='utf8') as file:\n",
    "    for i in all_movies_link:\n",
    "        file.write(i)"
   ]
  }
 ],
 "metadata": {
  "kernelspec": {
   "display_name": "Python 3",
   "language": "python",
   "name": "python3"
  },
  "language_info": {
   "codemirror_mode": {
    "name": "ipython",
    "version": 3
   },
   "file_extension": ".py",
   "mimetype": "text/x-python",
   "name": "python",
   "nbconvert_exporter": "python",
   "pygments_lexer": "ipython3",
   "version": "3.11.4"
  }
 },
 "nbformat": 4,
 "nbformat_minor": 2
}
